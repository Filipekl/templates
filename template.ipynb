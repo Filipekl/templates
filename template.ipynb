{
 "cells": [
  {
   "cell_type": "markdown",
   "metadata": {},
   "source": [
    "<a href = 'https://www.synchronyfinancial.com/'><img src='https://github.com/Filipekl/Logos/blob/master/syf_logo.jpg?raw=true' width='300px' align='right'></a>"
   ]
  },
  {
   "cell_type": "markdown",
   "metadata": {},
   "source": [
    "# Setup"
   ]
  },
  {
   "cell_type": "markdown",
   "metadata": {},
   "source": [
    "## Imports"
   ]
  },
  {
   "cell_type": "code",
   "execution_count": 1,
   "metadata": {
    "ExecuteTime": {
     "end_time": "2016-12-27T12:30:47.277643",
     "start_time": "2016-12-27T12:30:45.545715"
    },
    "collapsed": false
   },
   "outputs": [],
   "source": [
    "from datetime import datetime\n",
    "import getopt\n",
    "import os\n",
    "import sys\n",
    "\n",
    "from IPython.core.display import display, HTML\n",
    "from IPython.core.magic import register_cell_magic, register_line_cell_magic, register_line_magic\n",
    "# If we want to move the graph\n",
    "# %matplotlib notebook\n",
    "%matplotlib inline\n",
    "import matplotlib as mpl\n",
    "import matplotlib.pyplot as plt\n",
    "from matplotlib.colors import hex2color\n",
    "import numpy as np\n",
    "import pandas as pd\n",
    "import pandas.io.sql as psql\n",
    "# import psycopg2\n",
    "import seaborn as sns\n",
    "\n",
    "# Credentials file to connect to database\n",
    "# import credentials"
   ]
  },
  {
   "cell_type": "code",
   "execution_count": null,
   "metadata": {
    "ExecuteTime": {
     "end_time": "2016-12-27T13:43:20.833192",
     "start_time": "2016-12-27T13:43:20.682207"
    },
    "code_folding": [
     2,
     9,
     73,
     100
    ],
    "collapsed": false
   },
   "outputs": [],
   "source": [
    "%load myFunctions"
   ]
  },
  {
   "cell_type": "markdown",
   "metadata": {},
   "source": [
    "## Notebook Size Options"
   ]
  },
  {
   "cell_type": "code",
   "execution_count": 2,
   "metadata": {
    "ExecuteTime": {
     "end_time": "2016-12-02T17:50:06.084248",
     "start_time": "2016-12-02T17:50:06.064248"
    },
    "collapsed": false
   },
   "outputs": [
    {
     "data": {
      "text/html": [
       "<style>.container {width:80% !important;}</style>"
      ],
      "text/plain": [
       "<IPython.core.display.HTML object>"
      ]
     },
     "metadata": {},
     "output_type": "display_data"
    },
    {
     "data": {
      "image/png": "[encoded data removed]",
      "text/plain": [
       "<matplotlib.figure.Figure at 0xad91588>"
      ]
     },
     "metadata": {},
     "output_type": "display_data"
    }
   ],
   "source": [
    "# Set default cell width\n",
    "display(HTML('<style>.container {width:80% !important;}</style>'))\n",
    "\n",
    "# Set default matplotlib settings\n",
    "mpl.rcParams['figure.figsize'] = (10, 7)\n",
    "mpl.rcParams['lines.linewidth'] = 3\n",
    "mpl.rcParams['figure.titlesize'] = 26\n",
    "mpl.rcParams['axes.labelsize'] = 18\n",
    "mpl.rcParams['axes.titlesize'] = 22\n",
    "mpl.rcParams['xtick.labelsize'] = 14\n",
    "mpl.rcParams['ytick.labelsize'] = 14\n",
    "mpl.rcParams['legend.fontsize'] = 16\n",
    "\n",
    "# Set seaborn colours\n",
    "syfColors = [hex2color('#3B3C43'), hex2color('#94969A'), hex2color('#E9EAEB'), \n",
    "             hex2color('#FBC600'), hex2color('#6EBF4A'), hex2color('#34657F'), \n",
    "             hex2color('#58A7AF'), hex2color('#C63527'), hex2color('#D76B00')]\n",
    "sns.palplot(sns.color_palette(syfColors))\n",
    "darkGray, gray, lightGray, yellow, green, blue, teal, red, orange = sns.color_palette(syfColors)"
   ]
  },
  {
   "cell_type": "markdown",
   "metadata": {},
   "source": [
    "## Make Server Connection"
   ]
  },
  {
   "cell_type": "code",
   "execution_count": null,
   "metadata": {
    "ExecuteTime": {
     "end_time": "2016-12-02T15:54:53.901250",
     "start_time": "2016-12-02T21:54:51.964Z"
    },
    "collapsed": true
   },
   "outputs": [],
   "source": [
    "conn = psycopg2.connect(**credentials.login_info_dict)\n",
    "conn.autocommit = True\n",
    "\n",
    "# Set the schema name\n",
    "schema_name = 'template'\n",
    "psql.execute('SET search_path TO {}'.format(schema_name), conn)"
   ]
  },
  {
   "cell_type": "code",
   "execution_count": null,
   "metadata": {
    "collapsed": true
   },
   "outputs": [],
   "source": []
  }
 ],
 "metadata": {
  "anaconda-cloud": {},
  "kernelspec": {
   "display_name": "Python [conda root]",
   "language": "python",
   "name": "conda-root-py"
  },
  "language_info": {
   "codemirror_mode": {
    "name": "ipython",
    "version": 3
   },
   "file_extension": ".py",
   "mimetype": "text/x-python",
   "name": "python",
   "nbconvert_exporter": "python",
   "pygments_lexer": "ipython3",
   "version": "3.5.2"
  },
  "latex_envs": {
   "bibliofile": "biblio.bib",
   "cite_by": "apalike",
   "current_citInitial": 1,
   "eqLabelWithNumbers": true,
   "eqNumInitial": 0
  },
  "toc": {
   "nav_menu": {
    "height": "12px",
    "width": "252px"
   },
   "navigate_menu": true,
   "number_sections": true,
   "sideBar": true,
   "threshold": 4,
   "toc_cell": false,
   "toc_section_display": "block",
   "toc_window_display": false
  }
 },
 "nbformat": 4,
 "nbformat_minor": 1
}
