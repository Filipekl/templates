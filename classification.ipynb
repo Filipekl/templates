{
 "cells": [
  {
   "cell_type": "code",
   "execution_count": null,
   "metadata": {},
   "outputs": [],
   "source": [
    "import datetime\n",
    "import pickle\n",
    "import os\n",
    "import gc\n",
    "\n",
    "import numpy as np\n",
    "import pandas as pd\n",
    "\n",
    "from scipy.stats import randint as sp_randint\n",
    "from joblib import dump, load\n",
    "from sklearn.pipeline import Pipeline, FeatureUnion\n",
    "from sklearn.preprocessing import OneHotEncoder, LabelEncoder, Normalizer, Imputer, LabelBinarizer\n",
    "from sklearn.model_selection import GridSearchCV, RandomizedSearchCV\n",
    "from sklearn.ensemble import RandomForestClassifier\n",
    "from sklearn.model_selection import KFold, cross_validate\n",
    "from sklearn.base import BaseEstimator, TransformerMixin\n",
    "from sklearn.metrics import classification_report, accuracy_score\n",
    "\n",
    "from analytics_package.cic.preprocessing.preprocessing import *\n",
    "from analytics_package.cic.outlier_processing.outlier_processing import *\n",
    "from analytics_package.cic.pipeline.pipeline import *\n",
    "from analytics_package.cic.io.file import *\n",
    "\n",
    "%load_ext autoreload\n",
    "%autoreload 2\n",
    "%matplotlib inline"
   ]
  },
  {
   "cell_type": "markdown",
   "metadata": {},
   "source": [
    "# Modeling"
   ]
  },
  {
   "cell_type": "code",
   "execution_count": null,
   "metadata": {},
   "outputs": [],
   "source": [
    "features_types = {\n",
    "    'numeric': [\n",
    "        None\n",
    "    ],\n",
    "    'nominal': [\n",
    "        None\n",
    "    ],\n",
    "    'target': None\n",
    "}"
   ]
  },
  {
   "cell_type": "code",
   "execution_count": null,
   "metadata": {
    "scrolled": false
   },
   "outputs": [],
   "source": [
    "def Model(features_types , model):\n",
    "    pipeline_features_numeric = Pipeline([\n",
    "        ('features', ColumnSelector(features_types['numeric'])),\n",
    "        ('transformer_impute', Imputer()),\n",
    "        ('transformer_norm', Normalizer())\n",
    "    ])\n",
    "\n",
    "    pipeline_features_dummies = Pipeline([\n",
    "        ('features', ColumnSelector(features_types['nominal'])),\n",
    "        ('transformer_impute', FillNaN('0')),\n",
    "        ('transformer_le', MultiColumnLabelEncoder())\n",
    "    ])\n",
    "\n",
    "    pipeline_preprocessing = FeatureUnion([\n",
    "        ('features_numeric', pipeline_features_numeric),\n",
    "        ('features_dummies', pipeline_features_dummies)\n",
    "    ])\n",
    "\n",
    "    model_pipeline = Pipeline([\n",
    "        ('preprocessing', pipeline_preprocessing),\n",
    "        ('model', model)\n",
    "    ])\n",
    "    return model_pipeline"
   ]
  },
  {
   "cell_type": "markdown",
   "metadata": {},
   "source": [
    "# Parameter Search"
   ]
  },
  {
   "cell_type": "code",
   "execution_count": null,
   "metadata": {},
   "outputs": [],
   "source": [
    "param_dist = {\n",
    "    \"max_depth\": [5, None],\n",
    "    \"max_features\": sp_randint(1, 11),\n",
    "    \"min_samples_split\": sp_randint(2, 11),\n",
    "    \"criterion\": [\"gini\", \"entropy\"]\n",
    "}\n",
    "\n",
    "random_search = RandomizedSearchCV(clf, param_distributions=param_dist, n_iter=20, cv=3)"
   ]
  },
  {
   "cell_type": "markdown",
   "metadata": {},
   "source": [
    "# Cross-val"
   ]
  },
  {
   "cell_type": "code",
   "execution_count": null,
   "metadata": {},
   "outputs": [],
   "source": [
    "cross_validate(X, y, cv=3)"
   ]
  },
  {
   "cell_type": "markdown",
   "metadata": {},
   "source": [
    "# Run Model"
   ]
  },
  {
   "cell_type": "code",
   "execution_count": null,
   "metadata": {
    "scrolled": true
   },
   "outputs": [],
   "source": [
    "model_pipeline = Model(features_types, RandomForestClassifier(max_depth=5))\n",
    "model_pipeline.fit(X, y)\n",
    "save_model(model_pipeline, 'output/binarized_models/model_pipeline.joblib')"
   ]
  },
  {
   "cell_type": "code",
   "execution_count": null,
   "metadata": {},
   "outputs": [],
   "source": [
    "# System modifies environental variables which are read by score_model script\n",
    "os.environ['binary_location'] = \"output/binarized_models/model_pipeline.joblib\"\n",
    "os.environ['file_location'] = \"input/data/data.csv\"\n",
    "os.environ['output_file_location'] = \"output/defection/scores/\""
   ]
  },
  {
   "cell_type": "code",
   "execution_count": null,
   "metadata": {},
   "outputs": [],
   "source": [
    "# Clean for the purpose of testing properly\n",
    "del model_pipeline\n",
    "gc.collect()"
   ]
  },
  {
   "cell_type": "markdown",
   "metadata": {},
   "source": [
    "# Productionalization"
   ]
  },
  {
   "cell_type": "code",
   "execution_count": null,
   "metadata": {},
   "outputs": [],
   "source": [
    "def score_model():\n",
    "    now = datetime.datetime.now().strftime(\"%Y_%m_%d_%H_%M\")\n",
    "    \n",
    "    # Load Binarized Pipeline\n",
    "    model_pipeline = load_pickle(os.environ['binary_location'])\n",
    "    \n",
    "    # Load Data from csv\n",
    "    data = pd.read_csv(os.environ['file_location'], delimiter='|')\n",
    "    \n",
    "    #Score and write to a csv file\n",
    "    predictions = model_pipeline.predict(data)\n",
    "    np.savetxt(os.environ['output_file_location'] + now + '.csv', predictions)\n",
    "    \n",
    "    print('Model Done')"
   ]
  },
  {
   "cell_type": "code",
   "execution_count": null,
   "metadata": {},
   "outputs": [],
   "source": [
    "score_model()"
   ]
  }
 ],
 "metadata": {
  "kernelspec": {
   "display_name": "Python 3",
   "language": "python",
   "name": "python3"
  },
  "language_info": {
   "codemirror_mode": {
    "name": "ipython",
    "version": 3
   },
   "file_extension": ".py",
   "mimetype": "text/x-python",
   "name": "python",
   "nbconvert_exporter": "python",
   "pygments_lexer": "ipython3",
   "version": "3.7.1"
  }
 },
 "nbformat": 4,
 "nbformat_minor": 2
}
